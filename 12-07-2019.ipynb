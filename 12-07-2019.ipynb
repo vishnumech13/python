{
 "cells": [
  {
   "cell_type": "markdown",
   "metadata": {},
   "source": [
    "## Regular expression\n",
    "* pattern matching"
   ]
  },
  {
   "cell_type": "code",
   "execution_count": 1,
   "metadata": {},
   "outputs": [
    {
     "name": "stdout",
     "output_type": "stream",
     "text": [
      "True\n",
      "False\n"
     ]
    }
   ],
   "source": [
    "# Function to test two digit number matching\n",
    "import re\n",
    "def twodigitmatching(n):\n",
    "    pattern = '^[0-9]{2}$'\n",
    "    n = str(n)\n",
    "    if re.match(pattern,n):\n",
    "        return True\n",
    "    return False\n",
    "print(twodigitmatching(12))\n",
    "print(twodigitmatching(123))"
   ]
  },
  {
   "cell_type": "code",
   "execution_count": 2,
   "metadata": {},
   "outputs": [
    {
     "name": "stdout",
     "output_type": "stream",
     "text": [
      "True\n",
      "False\n"
     ]
    }
   ],
   "source": [
    "\n",
    "def testusername(s):\n",
    "    pattern = '[a-zA-Z]{8}$'\n",
    "    if re.match(pattern,s):\n",
    "        return True\n",
    "    return False\n",
    "print(testusername('GitamHYD'))\n",
    "print(testusername('Gitam188'))"
   ]
  },
  {
   "cell_type": "markdown",
   "metadata": {},
   "source": [
    "## Regular expression to match indan mobile number\n",
    "- 10 digits mobile number \n",
    "- (first didgit will be [6-9] and remaining 9 digits will be [0-9]\n",
    "- Example:- 9989657643\n",
    "- Re - ^[6-9][0-9]{9}"
   ]
  },
  {
   "cell_type": "code",
   "execution_count": 22,
   "metadata": {},
   "outputs": [
    {
     "data": {
      "text/plain": [
       "True"
      ]
     },
     "execution_count": 22,
     "metadata": {},
     "output_type": "execute_result"
    }
   ],
   "source": [
    "def InNum(phone):\n",
    "    pattern = '^[6-9][0-9]{9}$|^[0][6-9][0-9]{9}$|^[+][9][1][6-9][0-9]{9}$'\n",
    "    phone  = str(phone)\n",
    "    if re.match(pattern,phone):\n",
    "        return True\n",
    "    return False\n",
    "InNum(9989657643)"
   ]
  },
  {
   "cell_type": "markdown",
   "metadata": {},
   "source": [
    "## Regular Expression to validate email ID"
   ]
  },
  {
   "cell_type": "code",
   "execution_count": 23,
   "metadata": {},
   "outputs": [
    {
     "name": "stdout",
     "output_type": "stream",
     "text": [
      "True\n",
      "False\n"
     ]
    }
   ],
   "source": [
    "\n",
    "def emailid(email):\n",
    "    pattern = '^[0-9a-z][0-9a-z_.]{5,14}[@][a-z0-9]{3,18}[.][a-z]{3}$'\n",
    "    if re.match(pattern,email):\n",
    "        return True\n",
    "    return False\n",
    "print(emailid('xyz678@gmail.com'))\n",
    "print(emailid('675874938'))"
   ]
  },
  {
   "cell_type": "markdown",
   "metadata": {},
   "source": [
    "## Regular Expression to validate roll number"
   ]
  },
  {
   "cell_type": "code",
   "execution_count": 24,
   "metadata": {},
   "outputs": [
    {
     "name": "stdout",
     "output_type": "stream",
     "text": [
      "True\n",
      "False\n"
     ]
    }
   ],
   "source": [
    "\n",
    "def rollnumber(n):\n",
    "    pattern = '^[0-9]{12}$'\n",
    "    if re.match(pattern,n):\n",
    "        return True\n",
    "    return False\n",
    "print(rollnumber('221810801023'))\n",
    "print(rollnumber('675874938aiufhadhf'))"
   ]
  },
  {
   "cell_type": "markdown",
   "metadata": {},
   "source": [
    "## Regular Expression For Validation of Date"
   ]
  },
  {
   "cell_type": "code",
   "execution_count": 25,
   "metadata": {},
   "outputs": [
    {
     "name": "stdout",
     "output_type": "stream",
     "text": [
      "False\n",
      "False\n"
     ]
    }
   ],
   "source": [
    "\n",
    "import re\n",
    "def time(n):\n",
    "    pattern = '^[0-9]{2}:][0-59][2]$'\n",
    "    if re.match(pattern,n):\n",
    "        return True\n",
    "    return False\n",
    "print(time('15:30'))\n",
    "print(time('675874938'))"
   ]
  },
  {
   "cell_type": "markdown",
   "metadata": {},
   "source": [
    "## Python Turtle\n",
    "  * turtle Graphics"
   ]
  },
  {
   "cell_type": "code",
   "execution_count": 28,
   "metadata": {},
   "outputs": [],
   "source": [
    "import turtle\n",
    "a1 = turtle.Turtle()\n",
    "turtle.forward(250)\n",
    "turtle.done()"
   ]
  },
  {
   "cell_type": "code",
   "execution_count": 30,
   "metadata": {},
   "outputs": [],
   "source": [
    "import turtle as tt\n",
    "s = tt.Turtle()\n",
    "s.forward(150)\n",
    "s.right(90)\n",
    "s.forward(150)\n",
    "s.right(90)\n",
    "s.forward(150)\n",
    "s.right(90)\n",
    "s.forward(150)\n",
    "s.right(90)\n",
    "tt.done()"
   ]
  },
  {
   "cell_type": "code",
   "execution_count": null,
   "metadata": {},
   "outputs": [],
   "source": [
    "import turtle\n",
    "s = turtle.Turtle()\n",
    "for i in range(40)\n",
    "    s.forward(150)\n",
    "    s.right(90)\n",
    "t.done()"
   ]
  },
  {
   "cell_type": "code",
   "execution_count": 43,
   "metadata": {},
   "outputs": [
    {
     "data": {
      "text/plain": [
       "<function turtle.mainloop()>"
      ]
     },
     "execution_count": 43,
     "metadata": {},
     "output_type": "execute_result"
    }
   ],
   "source": [
    "# square sparial help of turtle\n",
    "import turtle as t\n",
    "a1 = t.Turtle()\n",
    "for i in range(250):\n",
    "    a1.forward(i)\n",
    "    a1.left(91)\n",
    "t.done"
   ]
  },
  {
   "cell_type": "code",
   "execution_count": 45,
   "metadata": {},
   "outputs": [],
   "source": [
    "import turtle\n",
    "s = turtle.Turtle()\n",
    "s.pencolor('blue')\n",
    "for i in range(40):\n",
    "    s.forward(i*10)\n",
    "    s.right(144)\n",
    "t.done()"
   ]
  },
  {
   "cell_type": "code",
   "execution_count": 47,
   "metadata": {},
   "outputs": [],
   "source": [
    "\n",
    "# Python program to draw  \n",
    "# Spiral Square Outside In and Inside Out  \n",
    "# using Turtle Programming \n",
    "import turtle   #Outside_In \n",
    "wn = turtle.Screen() \n",
    "wn.bgcolor(\"light green\") \n",
    "wn.title(\"Turtle\") \n",
    "skk = turtle.Turtle() \n",
    "skk.color(\"blue\") \n",
    "  \n",
    "def sqrfunc(size): \n",
    "    for i in range(4): \n",
    "        skk.fd(size) \n",
    "        skk.left(90) \n",
    "        size = size-5\n",
    "  \n",
    "sqrfunc(146) \n",
    "sqrfunc(126) \n",
    "sqrfunc(106) \n",
    "sqrfunc(86) \n",
    "sqrfunc(66) \n",
    "sqrfunc(46) \n",
    "sqrfunc(26) \n"
   ]
  },
  {
   "cell_type": "code",
   "execution_count": 7,
   "metadata": {},
   "outputs": [],
   "source": [
    "# Python program to draw  \n",
    "# Rainbow Benzene \n",
    "# using Turtle Programming \n",
    "import turtle \n",
    "colors = ['red', 'purple', 'blue', 'green', 'orange', 'yellow'] \n",
    "t = turtle.Pen() \n",
    "turtle.bgcolor('black') \n",
    "for x in range(360): \n",
    "    t.pencolor(colors[x%6]) \n",
    "    t.width(x/100 + 1) \n",
    "    t.forward(x) \n",
    "    t.left(59)"
   ]
  },
  {
   "cell_type": "code",
   "execution_count": 27,
   "metadata": {},
   "outputs": [],
   "source": [
    "import turtle  #Inside_Out \n",
    "wn = turtle.Screen() \n",
    "wn.bgcolor(\"light green\") \n",
    "skk = turtle.Turtle() \n",
    "skk.color(\"blue\") \n",
    "  \n",
    "def sqrfunc(size): \n",
    "    for i in range(4): \n",
    "        skk.fd(size) \n",
    "        skk.left(90) \n",
    "        size = size + 5\n",
    "  \n",
    "sqrfunc(36) \n",
    "sqrfunc(36) \n",
    "sqrfunc(36) \n",
    "sqrfunc(36) \n",
    "sqrfunc(36) \n",
    "sqrfunc(36) \n",
    "sqrfunc(36) \n",
    "sqrfunc(36) "
   ]
  },
  {
   "cell_type": "code",
   "execution_count": 3,
   "metadata": {},
   "outputs": [],
   "source": [
    "import turtle\n",
    " \n",
    " \n",
    "class MyTurtle(turtle.Turtle):\n",
    "    \"\"\"\"\"\"\n",
    " \n",
    "    def __init__(self):\n",
    "        \"\"\"Turtle Constructor\"\"\"\n",
    "        turtle.Turtle.__init__(self, shape=\"turtle\")\n",
    "        screen = turtle.Screen()\n",
    "        screen.bgcolor(\"lightgrey\")\n",
    "        self.pensize(3)\n",
    " \n",
    "    def drawCircle(self, x, y, color, radius=50):\n",
    "        \"\"\"\n",
    "        Moves the turtle to the correct position and draws a circle\n",
    "        \"\"\"\n",
    "        self.penup()\n",
    "        self.setposition(x, y)\n",
    "        self.pendown()\n",
    "        self.color(color)\n",
    "        self.circle(radius)\n",
    " \n",
    "    def drawOlympicSymbol(self):\n",
    "        \"\"\"\n",
    "        Iterates over a set of positions to draw the Olympics logo\n",
    "        \"\"\"\n",
    "        positions = [(0, 0, \"blue\"), (-120, 0, \"purple\"), (60,60, \"red\"),\n",
    "                     (-60, 60, \"yellow\"), (-180, 60, \"green\")]\n",
    "        for x, y, color in positions:\n",
    "            self.drawCircle(x, y, color)\n",
    " \n",
    "        self.drawText()\n",
    " \n",
    "    def drawText(self):\n",
    "        \"\"\"\n",
    "        Draw text to the screen\n",
    "        \"\"\"\n",
    "        self.penup()\n",
    "        self.setposition(-60, 0)\n",
    "        self.setheading(0)\n",
    "        self.pendown()\n",
    "        self.color(\"black\")\n",
    "        self.write(\"London 2012\", font=(\"Arial\", 16, \"bold\"))\n",
    " \n",
    "if __name__ == \"__main__\":\n",
    "    t = MyTurtle()\n",
    "    t.drawOlympicSymbol()\n",
    "    turtle.getscreen()._root.mainloop()"
   ]
  },
  {
   "cell_type": "code",
   "execution_count": 5,
   "metadata": {},
   "outputs": [],
   "source": [
    "from turtle import  *\n",
    "fillcolor('orange')\n",
    "pensize(10)\n",
    "pencolor('black')\n",
    "begin_fill()\n",
    "circle(150)\n",
    "end_fill()"
   ]
  },
  {
   "cell_type": "code",
   "execution_count": null,
   "metadata": {},
   "outputs": [],
   "source": []
  }
 ],
 "metadata": {
  "kernelspec": {
   "display_name": "Python 3",
   "language": "python",
   "name": "python3"
  },
  "language_info": {
   "codemirror_mode": {
    "name": "ipython",
    "version": 3
   },
   "file_extension": ".py",
   "mimetype": "text/x-python",
   "name": "python",
   "nbconvert_exporter": "python",
   "pygments_lexer": "ipython3",
   "version": "3.7.3"
  }
 },
 "nbformat": 4,
 "nbformat_minor": 2
}
