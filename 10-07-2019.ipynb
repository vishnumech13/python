{
 "cells": [
  {
   "cell_type": "markdown",
   "metadata": {},
   "source": [
    "# Data structures\n",
    "### Dictionary\n",
    "* It works on the set concept of unique data\n",
    "* Keys,values is the unique identifier for a value\n",
    "* Each key is seperated from its values with colon(:)\n",
    "* Each key value is separated by comma (,)\n",
    "* Dictionaries are enclosed by curly braces{}"
   ]
  },
  {
   "cell_type": "code",
   "execution_count": 2,
   "metadata": {},
   "outputs": [
    {
     "name": "stdout",
     "output_type": "stream",
     "text": [
      "{'name': 'Gitam', 'Email ID': 'gitam@gmail.com', 'Address': 'HYDERABAD'}\n"
     ]
    }
   ],
   "source": [
    "d1 = {\"name\":\"Gitam\",\"Email ID\":\"gitam@gmail.com\",\"Address\":\"HYDERABAD\"}\n",
    "print(d1)"
   ]
  },
  {
   "cell_type": "code",
   "execution_count": 3,
   "metadata": {},
   "outputs": [
    {
     "data": {
      "text/plain": [
       "'Gitam'"
      ]
     },
     "execution_count": 3,
     "metadata": {},
     "output_type": "execute_result"
    }
   ],
   "source": [
    "d1[\"name\"]"
   ]
  },
  {
   "cell_type": "code",
   "execution_count": 4,
   "metadata": {},
   "outputs": [],
   "source": [
    "d1[\"name\"] = 'vishnu'"
   ]
  },
  {
   "cell_type": "code",
   "execution_count": 5,
   "metadata": {},
   "outputs": [
    {
     "data": {
      "text/plain": [
       "dict_keys(['name', 'Email ID', 'Address'])"
      ]
     },
     "execution_count": 5,
     "metadata": {},
     "output_type": "execute_result"
    }
   ],
   "source": [
    "d1.keys()"
   ]
  },
  {
   "cell_type": "code",
   "execution_count": 6,
   "metadata": {},
   "outputs": [
    {
     "data": {
      "text/plain": [
       "dict_values(['vishnu', 'gitam@gmail.com', 'HYDERABAD'])"
      ]
     },
     "execution_count": 6,
     "metadata": {},
     "output_type": "execute_result"
    }
   ],
   "source": [
    "d1.values()"
   ]
  },
  {
   "cell_type": "code",
   "execution_count": 7,
   "metadata": {},
   "outputs": [
    {
     "data": {
      "text/plain": [
       "dict_items([('name', 'vishnu'), ('Email ID', 'gitam@gmail.com'), ('Address', 'HYDERABAD')])"
      ]
     },
     "execution_count": 7,
     "metadata": {},
     "output_type": "execute_result"
    }
   ],
   "source": [
    "d1.items()"
   ]
  },
  {
   "cell_type": "markdown",
   "metadata": {},
   "source": [
    "# Tuples\n",
    "* t1 paranthesis () li square bracket []\n",
    "* Difference between list and tuples\n",
    "     * lists are mutable i.e can be changed/modified\n",
    "         * Used to acess modify,add,delete data"
   ]
  },
  {
   "cell_type": "code",
   "execution_count": 8,
   "metadata": {},
   "outputs": [
    {
     "data": {
      "text/plain": [
       "list"
      ]
     },
     "execution_count": 8,
     "metadata": {},
     "output_type": "execute_result"
    }
   ],
   "source": [
    "t1 = [1,2,3,4,5]\n",
    "t1\n",
    "type(t1)"
   ]
  },
  {
   "cell_type": "markdown",
   "metadata": {},
   "source": [
    "### Contact Application\n",
    "* Add Contact\n",
    "* Search the Contact\n",
    "* List all contacts\n",
    "  * name1 : phone1\n",
    "  * name2 : phone2\n",
    "* Modify the Contact\n",
    "* Remove the Contact\n",
    "* Import the Contact\n",
    "  "
   ]
  },
  {
   "cell_type": "code",
   "execution_count": 3,
   "metadata": {},
   "outputs": [
    {
     "name": "stdout",
     "output_type": "stream",
     "text": [
      "Contact details are added\n",
      "Contact details are added\n",
      "Contact details are added\n"
     ]
    }
   ],
   "source": [
    "Contacts = {}\n",
    "def addContact(name,phone):\n",
    "    if name not in Contacts:\n",
    "        Contacts[name] = phone\n",
    "        print(\"Contact details are added\")\n",
    "    else:\n",
    "        print(\"Contact details already exists\")\n",
    "    return\n",
    "addContact('x','9562754535')\n",
    "addContact('xY','9505754535')\n",
    "addContact('xYZ','9165754535')\n"
   ]
  },
  {
   "cell_type": "code",
   "execution_count": 4,
   "metadata": {},
   "outputs": [
    {
     "name": "stdout",
     "output_type": "stream",
     "text": [
      "raghav does not exists\n",
      "x  :  9562754535\n",
      "suresh does not exists\n"
     ]
    }
   ],
   "source": [
    "def searchcontact(name):\n",
    "    if name in Contacts:\n",
    "        print(name, \" : \" ,Contacts[name])\n",
    "    else:\n",
    "        print(\"%s does not exists\" % name)\n",
    "    return\n",
    "searchcontact('raghav')\n",
    "searchcontact('x')\n",
    "searchcontact('suresh')"
   ]
  },
  {
   "cell_type": "code",
   "execution_count": 5,
   "metadata": {},
   "outputs": [
    {
     "name": "stdout",
     "output_type": "stream",
     "text": [
      "2\n"
     ]
    }
   ],
   "source": [
    "def importContact(newContacts):\n",
    "    Contacts.update(newContacts)\n",
    "    print(len(newContacts.keys())),\"Contacts added sucessfully\"\n",
    "    return\n",
    "newContacts = {'raghav':9565432178,'x':9562754535}\n",
    "importContact(newContacts)"
   ]
  },
  {
   "cell_type": "code",
   "execution_count": 6,
   "metadata": {},
   "outputs": [
    {
     "name": "stdout",
     "output_type": "stream",
     "text": [
      "x  deleted successfully \n"
     ]
    }
   ],
   "source": [
    "def deletecontact(name):\n",
    "    if name in Contacts:\n",
    "        del Contacts[name]\n",
    "        print(name,\" deleted successfully \")\n",
    "    else:\n",
    "        print(name,\" not exist \")\n",
    "    return\n",
    "deletecontact('x')"
   ]
  },
  {
   "cell_type": "markdown",
   "metadata": {},
   "source": [
    "# STRING FORMATTING\n",
    "* Classical version\n",
    "* Current version"
   ]
  },
  {
   "cell_type": "code",
   "execution_count": 21,
   "metadata": {},
   "outputs": [
    {
     "name": "stdout",
     "output_type": "stream",
     "text": [
      "Python Programming\n"
     ]
    }
   ],
   "source": [
    "# Classical version\n",
    "li = [\"Python\",\"Programming\"]\n",
    "print(\"%s %s\" % (li[0],li[1]))"
   ]
  },
  {
   "cell_type": "code",
   "execution_count": 19,
   "metadata": {},
   "outputs": [
    {
     "name": "stdout",
     "output_type": "stream",
     "text": [
      " Python Programming \n"
     ]
    }
   ],
   "source": [
    "print(\" {0} {1} \".format(li[0],li[1]))"
   ]
  },
  {
   "cell_type": "code",
   "execution_count": 23,
   "metadata": {},
   "outputs": [
    {
     "name": "stdout",
     "output_type": "stream",
     "text": [
      "1 2 3 4\n"
     ]
    }
   ],
   "source": [
    "li1 = [1,2,3,4]\n",
    "print(\"%d %d %d %d\" % (li1[0],li1[1],li1[2],li1[3]))"
   ]
  },
  {
   "cell_type": "code",
   "execution_count": 24,
   "metadata": {},
   "outputs": [
    {
     "name": "stdout",
     "output_type": "stream",
     "text": [
      "1 2 3 4\n"
     ]
    }
   ],
   "source": [
    "print(\"{0} {1} {2} {3}\" .format(li1[0],li1[1],li1[2],li1[3]))"
   ]
  },
  {
   "cell_type": "markdown",
   "metadata": {},
   "source": [
    "### STRING FUNCTIONS\n",
    "* UPPER()--Will converts the given string into upper case\n",
    "* LOWER()--Will converts the given string into lower case"
   ]
  },
  {
   "cell_type": "code",
   "execution_count": 26,
   "metadata": {},
   "outputs": [
    {
     "name": "stdout",
     "output_type": "stream",
     "text": [
      "VISHNU\n",
      "vishnu\n"
     ]
    }
   ],
   "source": [
    "s1 = 'Vishnu'\n",
    "print(s1.upper())\n",
    "print(s1.lower())"
   ]
  },
  {
   "cell_type": "code",
   "execution_count": 28,
   "metadata": {},
   "outputs": [
    {
     "name": "stdout",
     "output_type": "stream",
     "text": [
      "False\n",
      "True\n"
     ]
    }
   ],
   "source": [
    "s1 = 'vishnu'\n",
    "print(s1.isupper())\n",
    "print(s1.islower())"
   ]
  },
  {
   "cell_type": "code",
   "execution_count": 5,
   "metadata": {},
   "outputs": [
    {
     "name": "stdout",
     "output_type": "stream",
     "text": [
      "True\n",
      "False\n"
     ]
    }
   ],
   "source": [
    "s2 = \"Python Programming\"\n",
    "s3 = \"python programming\"\n",
    "print(s2.istitle())\n",
    "print(s3.istitle())"
   ]
  },
  {
   "cell_type": "code",
   "execution_count": 9,
   "metadata": {},
   "outputs": [
    {
     "name": "stdout",
     "output_type": "stream",
     "text": [
      "True\n",
      "False\n"
     ]
    }
   ],
   "source": [
    "s1 = \"1234\"\n",
    "s2 = \"Application1234\"\n",
    "print(s1.isnumeric())\n",
    "print(s2.isnumeric())"
   ]
  },
  {
   "cell_type": "markdown",
   "metadata": {},
   "source": [
    "# String Methods\n",
    "* 1.join()--Method Will concatinates the two strings"
   ]
  },
  {
   "cell_type": "code",
   "execution_count": 13,
   "metadata": {},
   "outputs": [
    {
     "name": "stdout",
     "output_type": "stream",
     "text": [
      "P y t h o n\n"
     ]
    }
   ],
   "source": [
    "s1 = 'Python'\n",
    "print(\" \".join(s1))"
   ]
  },
  {
   "cell_type": "code",
   "execution_count": 18,
   "metadata": {},
   "outputs": [
    {
     "name": "stdout",
     "output_type": "stream",
     "text": [
      "P , y , t , h , o , n\n"
     ]
    }
   ],
   "source": [
    "s2 = 'Python'\n",
    "print(\" , \".join(s2))"
   ]
  },
  {
   "cell_type": "code",
   "execution_count": 26,
   "metadata": {},
   "outputs": [
    {
     "name": "stdout",
     "output_type": "stream",
     "text": [
      "['Python', 'programming', 'easy', 'to', 'learn']\n",
      "5\n"
     ]
    }
   ],
   "source": [
    "s2 = \"Python programming easy to learn \"\n",
    "li = s2.split()\n",
    "print(li)\n",
    "print(len(li))"
   ]
  },
  {
   "cell_type": "code",
   "execution_count": 27,
   "metadata": {},
   "outputs": [
    {
     "name": "stdout",
     "output_type": "stream",
     "text": [
      "['P', 'y', 't', 'h', 'o', 'n', ' ', 'p', 'r', 'o', 'g', 'r', 'a', 'm', 'm', 'i', 'n', 'g', ' ', 'e', 'a', 's', 'y', ' ', 't', 'o', ' ', 'l', 'e', 'a', 'r', 'n', ' ']\n"
     ]
    }
   ],
   "source": [
    "s2 = \"Python programming easy to learn \"\n",
    "li = list(s2)\n",
    "print(li)"
   ]
  },
  {
   "cell_type": "code",
   "execution_count": null,
   "metadata": {},
   "outputs": [],
   "source": [
    "s2 = \"Python programming easy to learn \"\n"
   ]
  }
 ],
 "metadata": {
  "kernelspec": {
   "display_name": "Python 3",
   "language": "python",
   "name": "python3"
  },
  "language_info": {
   "codemirror_mode": {
    "name": "ipython",
    "version": 3
   },
   "file_extension": ".py",
   "mimetype": "text/x-python",
   "name": "python",
   "nbconvert_exporter": "python",
   "pygments_lexer": "ipython3",
   "version": "3.7.3"
  }
 },
 "nbformat": 4,
 "nbformat_minor": 2
}
