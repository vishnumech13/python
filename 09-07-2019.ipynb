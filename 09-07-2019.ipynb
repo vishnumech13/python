{
 "cells": [
  {
   "cell_type": "code",
   "execution_count": 1,
   "metadata": {},
   "outputs": [
    {
     "name": "stdout",
     "output_type": "stream",
     "text": [
      "14569\n"
     ]
    }
   ],
   "source": [
    "#convert digits into nos\n",
    "y=[1,4,5,6,9]\n",
    "z=0\n",
    "for x in range (len(y)):\n",
    "  z=z*10+y[x]\n",
    "print(z)"
   ]
  },
  {
   "cell_type": "code",
   "execution_count": 5,
   "metadata": {},
   "outputs": [
    {
     "name": "stdout",
     "output_type": "stream",
     "text": [
      "46\n"
     ]
    }
   ],
   "source": [
    "y=[1,4,5,6,9]\n",
    "z=0\n",
    "for x in range (len(y)):\n",
    "    if y[x]%2 == 0:\n",
    "        z=z*10+y[x]\n",
    "print(z)"
   ]
  },
  {
   "cell_type": "code",
   "execution_count": 8,
   "metadata": {},
   "outputs": [
    {
     "data": {
      "text/plain": [
       "[1, 16, 5, 36, 9]"
      ]
     },
     "execution_count": 8,
     "metadata": {},
     "output_type": "execute_result"
    }
   ],
   "source": [
    "y=[1,4,5,6,9]\n",
    "z=[]\n",
    "for x in range (len(y)):\n",
    "  if y[x]%2 == 0:\n",
    "    z.append(y[x]**2)\n",
    "  else:\n",
    "    z.append(y[x])\n",
    "z"
   ]
  },
  {
   "cell_type": "code",
   "execution_count": 9,
   "metadata": {},
   "outputs": [
    {
     "data": {
      "text/plain": [
       "[15, 34, 31, 28, 20]"
      ]
     },
     "execution_count": 9,
     "metadata": {},
     "output_type": "execute_result"
    }
   ],
   "source": [
    "v=[15,19,12,16,4]\n",
    "a=[]\n",
    "a.append(v[0])\n",
    "\n",
    "for x in range (1,len(v)):\n",
    "  a.append(v[x]+v[x-1])\n",
    "a"
   ]
  },
  {
   "cell_type": "code",
   "execution_count": 10,
   "metadata": {},
   "outputs": [
    {
     "name": "stdout",
     "output_type": "stream",
     "text": [
      "24\n"
     ]
    }
   ],
   "source": [
    "# function to find the 2nd largest\n",
    "l=[1,45,3,13,24,5]\n",
    "l.sort()\n",
    "print(l[-2])"
   ]
  },
  {
   "cell_type": "code",
   "execution_count": 11,
   "metadata": {},
   "outputs": [
    {
     "name": "stdout",
     "output_type": "stream",
     "text": [
      "23\n"
     ]
    }
   ],
   "source": [
    "# function to find the 2nd largest\n",
    "def anylarge(x,n) :\n",
    "  x.sort()\n",
    "  print(x[-n])\n",
    "anylarge([2,37,4,67,23],3)"
   ]
  },
  {
   "cell_type": "code",
   "execution_count": null,
   "metadata": {},
   "outputs": [],
   "source": []
  }
 ],
 "metadata": {
  "kernelspec": {
   "display_name": "Python 3",
   "language": "python",
   "name": "python3"
  },
  "language_info": {
   "codemirror_mode": {
    "name": "ipython",
    "version": 3
   },
   "file_extension": ".py",
   "mimetype": "text/x-python",
   "name": "python",
   "nbconvert_exporter": "python",
   "pygments_lexer": "ipython3",
   "version": "3.7.3"
  }
 },
 "nbformat": 4,
 "nbformat_minor": 2
}
