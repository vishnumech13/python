{
 "cells": [
  {
   "cell_type": "code",
   "execution_count": 1,
   "metadata": {},
   "outputs": [
    {
     "name": "stdout",
     "output_type": "stream",
     "text": [
      "3 2 1 1 0 "
     ]
    }
   ],
   "source": [
    "def reverseFibonacci(n): \n",
    "   \n",
    "    a = [0] * n  \n",
    "  \n",
    "    # assigning first and second elements \n",
    "    a[0] = 0 \n",
    "    a[1] = 1 \n",
    "  \n",
    "    for i in range(2, n):   \n",
    "  \n",
    "        # storing sum in the \n",
    "        # preceding location \n",
    "        a[i] = a[i - 2] + a[i - 1]  \n",
    "       \n",
    "  \n",
    "    for i in range(n - 1, -1 , -1):   \n",
    "  \n",
    "        # printing array in \n",
    "        # reverse order \n",
    "        print(a[i],end=\" \")  \n",
    "       \n",
    "   \n",
    "  \n",
    "# Driver function \n",
    "n = 5 \n",
    "reverseFibonacci(n)  "
   ]
  },
  {
   "cell_type": "code",
   "execution_count": 2,
   "metadata": {},
   "outputs": [
    {
     "name": "stdout",
     "output_type": "stream",
     "text": [
      "89 55 34 21 13 8 5 3 2 1 1 0 "
     ]
    }
   ],
   "source": [
    "def reverseFibonacci(n): \n",
    "   \n",
    "    a = [0] * n  \n",
    "  \n",
    "    # assigning first and second elements \n",
    "    a[0] = 0 \n",
    "    a[1] = 1 \n",
    "  \n",
    "    for i in range(2, n):   \n",
    "  \n",
    "        # storing sum in the \n",
    "        # preceding location \n",
    "        a[i] = a[i - 2] + a[i - 1]  \n",
    "       \n",
    "  \n",
    "    for i in range(n - 1, -1 , -1):   \n",
    "  \n",
    "        # printing array in \n",
    "        # reverse order \n",
    "        print(a[i],end=\" \")  \n",
    "       \n",
    "   \n",
    "  \n",
    "# Driver function \n",
    "n = 12 \n",
    "reverseFibonacci(n)  \n"
   ]
  },
  {
   "cell_type": "code",
   "execution_count": 11,
   "metadata": {},
   "outputs": [
    {
     "name": "stdout",
     "output_type": "stream",
     "text": [
      "abcab  xyssdz\n"
     ]
    }
   ],
   "source": [
    "def solve(a, b, k): \n",
    "    s = \"\"  \n",
    "    la = len(a) \n",
    "    lb = len(b) \n",
    "    l = la + lb \n",
    "    indexa = indexb = 0\n",
    "    while l:  \n",
    "        pa = pb = 0\n",
    "        if la - indexa >= k: \n",
    "            s = s + a[indexa : indexa + k] \n",
    "            indexa = indexa + k \n",
    "            pa = k  \n",
    "        elif la - indexa < k and la - indexa: \n",
    "            s = s + a[indexa : la] \n",
    "            pa = la - indexa \n",
    "            indexa = la \n",
    "        elif indexa >= la: \n",
    "            pa = 0 \n",
    "        if lb - indexb >= k: \n",
    "            s = s + b[indexb : indexb+k] \n",
    "            pb = k \n",
    "            indexb = indexb + k \n",
    "        elif lb - indexb < k and lb - indexb: \n",
    "            s = s + b[indexb : lb] \n",
    "            pb = lb - indexb \n",
    "            indexb = lb \n",
    "        elif indexb >= lb: \n",
    "            pb = 0\n",
    "        l = l - pa - pb \n",
    "    print(s)  \n",
    "a = \"abc xyz\"; b = \"ab ssd\"\n",
    "k = 3\n",
    "solve(a, b, k) "
   ]
  },
  {
   "cell_type": "code",
   "execution_count": 2,
   "metadata": {},
   "outputs": [
    {
     "name": "stdout",
     "output_type": "stream",
     "text": [
      "give a no21\n",
      "1\n",
      "3\n",
      "5\n",
      "7\n",
      "9\n",
      "11\n",
      "13\n",
      "15\n",
      "17\n",
      "19\n",
      "21\n",
      "23\n",
      "25\n",
      "27\n",
      "29\n",
      "31\n",
      "33\n",
      "35\n",
      "37\n",
      "39\n"
     ]
    }
   ],
   "source": [
    "# The program must accept an integer N as the input. The program must print the fibonacci series in the reverse order as the output.\n",
    "n=int(input(\"give a no\"))\n",
    "x=0\n",
    "for y in range(1,n):\n",
    "  y=y+y-1\n",
    "  print(y)\n"
   ]
  },
  {
   "cell_type": "code",
   "execution_count": 3,
   "metadata": {},
   "outputs": [
    {
     "name": "stdout",
     "output_type": "stream",
     "text": [
      "enter how many times to stop3\n"
     ]
    },
    {
     "data": {
      "text/plain": [
       "[1, 3, 9]"
      ]
     },
     "execution_count": 3,
     "metadata": {},
     "output_type": "execute_result"
    }
   ],
   "source": [
    "# Series Generations:-  1, 3, 9, 27, 81, ...\n",
    "x=[1]\n",
    "n=(int(input(\"enter how many times to stop\")))\n",
    "for y in range (1,n):\n",
    "  x.append(x[y-1]*3)\n",
    "x\n"
   ]
  },
  {
   "cell_type": "code",
   "execution_count": 4,
   "metadata": {},
   "outputs": [
    {
     "name": "stdout",
     "output_type": "stream",
     "text": [
      "enter how many times to stop2\n"
     ]
    },
    {
     "data": {
      "text/plain": [
       "[1, 2]"
      ]
     },
     "execution_count": 4,
     "metadata": {},
     "output_type": "execute_result"
    }
   ],
   "source": [
    "# Series Generations:-  1, 2, 4, 8, 16, 32, 64, 128, 256, ...\n",
    "x=[1]\n",
    "n=(int(input(\"enter how many times to stop\")))\n",
    "for y in range (1,n):\n",
    "  x.append(x[y-1]*2)\n",
    "x"
   ]
  },
  {
   "cell_type": "code",
   "execution_count": 5,
   "metadata": {},
   "outputs": [
    {
     "name": "stdout",
     "output_type": "stream",
     "text": [
      "Enter a number12\n",
      "[233, 144, 89, 55, 34, 21, 13, 8, 5, 3, 2, 1, 1, 0]\n"
     ]
    }
   ],
   "source": [
    "# fibonacci in reverse\n",
    "n = int(input(\"Enter a number\"))\n",
    "a = 0\n",
    "b = 1\n",
    "fib=[]\n",
    "fib.append(a)\n",
    "fib.append(b)\n",
    "for i in range(0,n):\n",
    "   c = a + b\n",
    "   fib.append(c)\n",
    "   a = b\n",
    "   b = c\n",
    "fib.reverse()\n",
    "print(fib)"
   ]
  },
  {
   "cell_type": "code",
   "execution_count": 6,
   "metadata": {},
   "outputs": [
    {
     "name": "stdout",
     "output_type": "stream",
     "text": [
      "enter string19\n",
      "enter string212\n",
      "912\n"
     ]
    }
   ],
   "source": [
    "# Your Program need to accept two strings and generate the output in merging of both strings.\n",
    "x=(input(\"enter string1\"))\n",
    "y=(input(\"enter string2\"))\n",
    "z=x+y\n",
    "print(z)\n"
   ]
  },
  {
   "cell_type": "code",
   "execution_count": 7,
   "metadata": {},
   "outputs": [
    {
     "name": "stdout",
     "output_type": "stream",
     "text": [
      "Enter number:9\n",
      "*********\n"
     ]
    }
   ],
   "source": [
    "# The program must accept an integer N the input. The program must print the desired pattern as shown in the Example Input/Output section.\n",
    "n=int(input(\"Enter number:\"))\n",
    "m = str(n)\n",
    "count=0\n",
    "while(n>0):\n",
    "   count=count+1\n",
    "   n=n//10\n",
    "i=0\n",
    "for i in range(count):\n",
    "   print('*'*int(m[i]))"
   ]
  },
  {
   "cell_type": "code",
   "execution_count": 15,
   "metadata": {},
   "outputs": [
    {
     "data": {
      "text/plain": [
       "'eyed'"
      ]
     },
     "execution_count": 15,
     "metadata": {},
     "output_type": "execute_result"
    }
   ],
   "source": [
    "#The program must accept a string S as the input. The program print the longest word from the string S as the output.\n",
    "# If two or more longest words are of same length then consider the first one.\n",
    "def longestWord(str):\n",
    "        list = []\n",
    "        list = str.split()\n",
    "        large = 0\n",
    "        j = 0\n",
    "        for i in range(0,len(list)):\n",
    "            if len(list[i]) > large:\n",
    "                large = len(list[i])\n",
    "        j = i\n",
    "        return list[j]\n",
    "longestWord(\"Starry eyed\")  "
   ]
  },
  {
   "cell_type": "code",
   "execution_count": 22,
   "metadata": {},
   "outputs": [
    {
     "name": "stdout",
     "output_type": "stream",
     "text": [
      "1\n",
      "1\n",
      "3\n",
      "2\n",
      "9\n"
     ]
    }
   ],
   "source": [
    "#The order of series must be 1, 1, 2, 3, 4, 9, 8, 27, 16, 81, 32, 243, 64, 729, 128, 2187, 256, 6561, 512, 19683, ... \n",
    "#This series is a mixture of 2 series - all the odd terms in this series form a geometric series and all the even terms form another geometric series.\n",
    "def series2(n):\n",
    "    k = 0\n",
    "    j = 0\n",
    "    e = 2\n",
    "    o = 3\n",
    "    for i in range(1,n+1):\n",
    "        if i%2==0:\n",
    "            print(e**j)\n",
    "            j = j + 1\n",
    "        else:\n",
    "            print(o**k)\n",
    "            k = k + 1\n",
    "    return\n",
    "series2(5)"
   ]
  },
  {
   "cell_type": "code",
   "execution_count": 29,
   "metadata": {},
   "outputs": [
    {
     "name": "stdout",
     "output_type": "stream",
     "text": [
      "1\n",
      "3\n",
      "9\n",
      "33\n"
     ]
    }
   ],
   "source": [
    "# 1! + 2! + 3! +....+n!\n",
    "def factsum(n):\n",
    "    sum = 0\n",
    "    for i in range(1,n+1):\n",
    "        fact(i)\n",
    "        sum = sum + fact(i)\n",
    "        print(sum)  \n",
    "    return\n",
    "def fact(n):\n",
    "    fact =1\n",
    "    for i in range(2,n+1):\n",
    "        fact=fact*i\n",
    "    return fact\n",
    "factsum(4)"
   ]
  },
  {
   "cell_type": "code",
   "execution_count": null,
   "metadata": {},
   "outputs": [],
   "source": []
  }
 ],
 "metadata": {
  "kernelspec": {
   "display_name": "Python 3",
   "language": "python",
   "name": "python3"
  },
  "language_info": {
   "codemirror_mode": {
    "name": "ipython",
    "version": 3
   },
   "file_extension": ".py",
   "mimetype": "text/x-python",
   "name": "python",
   "nbconvert_exporter": "python",
   "pygments_lexer": "ipython3",
   "version": "3.7.3"
  }
 },
 "nbformat": 4,
 "nbformat_minor": 2
}
